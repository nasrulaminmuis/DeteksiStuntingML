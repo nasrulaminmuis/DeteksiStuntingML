{
 "cells": [
  {
   "cell_type": "code",
   "execution_count": 33,
   "metadata": {
    "colab": {
     "base_uri": "https://localhost:8080/",
     "height": 166
    },
    "id": "QOBbtnXowPJb",
    "outputId": "95ff8cd3-4154-4773-ccc3-346b0fe3aea7"
   },
   "outputs": [],
   "source": [
    "import pandas as pd\n",
    "import numpy as np\n",
    "import matplotlib.pyplot as plt\n",
    "import seaborn as sns\n",
    "import tensorflow as tf\n",
    "import tensorflow_decision_forests as tfdf\n",
    "from sklearn.preprocessing import LabelEncoder, MinMaxScaler\n"
   ]
  },
  {
   "cell_type": "code",
   "execution_count": 34,
   "metadata": {
    "colab": {
     "base_uri": "https://localhost:8080/"
    },
    "id": "jHLV2U-RwSSL",
    "outputId": "58fd585b-5914-401f-b2f3-32279233b10c"
   },
   "outputs": [
    {
     "name": "stdout",
     "output_type": "stream",
     "text": [
      "  % Total    % Received % Xferd  Average Speed   Time    Time     Time  Current\n",
      "                                 Dload  Upload   Total   Spent    Left  Speed\n",
      "  0     0    0     0    0     0      0      0 --:--:--  0:00:01 --:--:--     0\n",
      "100 45433  100 45433    0     0  14469      0  0:00:03  0:00:03 --:--:-- 22194\n"
     ]
    }
   ],
   "source": [
    "!curl -L -o faktor-stunting.zip\\\n",
    "https://www.kaggle.com/api/v1/datasets/download/harnelia/faktor-stunting"
   ]
  },
  {
   "cell_type": "code",
   "execution_count": 35,
   "metadata": {
    "colab": {
     "base_uri": "https://localhost:8080/"
    },
    "id": "sUuzU0Tvwbho",
    "outputId": "b3370b72-4e89-4233-dc41-00167484bcb9"
   },
   "outputs": [
    {
     "name": "stdout",
     "output_type": "stream",
     "text": [
      "Archive:  faktor-stunting.zip\n",
      "  inflating: Stunting_Dataset.csv    \n"
     ]
    }
   ],
   "source": [
    "!unzip faktor-stunting.zip"
   ]
  },
  {
   "cell_type": "code",
   "execution_count": 36,
   "metadata": {
    "id": "hc8KoDZZwf8m"
   },
   "outputs": [
    {
     "data": {
      "text/html": [
       "<div>\n",
       "<style scoped>\n",
       "    .dataframe tbody tr th:only-of-type {\n",
       "        vertical-align: middle;\n",
       "    }\n",
       "\n",
       "    .dataframe tbody tr th {\n",
       "        vertical-align: top;\n",
       "    }\n",
       "\n",
       "    .dataframe thead th {\n",
       "        text-align: right;\n",
       "    }\n",
       "</style>\n",
       "<table border=\"1\" class=\"dataframe\">\n",
       "  <thead>\n",
       "    <tr style=\"text-align: right;\">\n",
       "      <th></th>\n",
       "      <th>Gender</th>\n",
       "      <th>Age</th>\n",
       "      <th>Birth Weight</th>\n",
       "      <th>Birth Length</th>\n",
       "      <th>Body Weight</th>\n",
       "      <th>Body Length</th>\n",
       "      <th>Breastfeeding</th>\n",
       "      <th>Stunting</th>\n",
       "    </tr>\n",
       "  </thead>\n",
       "  <tbody>\n",
       "    <tr>\n",
       "      <th>0</th>\n",
       "      <td>Male</td>\n",
       "      <td>17</td>\n",
       "      <td>3.0</td>\n",
       "      <td>49</td>\n",
       "      <td>10.0</td>\n",
       "      <td>72.2</td>\n",
       "      <td>No</td>\n",
       "      <td>No</td>\n",
       "    </tr>\n",
       "    <tr>\n",
       "      <th>1</th>\n",
       "      <td>Female</td>\n",
       "      <td>11</td>\n",
       "      <td>2.9</td>\n",
       "      <td>49</td>\n",
       "      <td>2.9</td>\n",
       "      <td>65.0</td>\n",
       "      <td>No</td>\n",
       "      <td>Yes</td>\n",
       "    </tr>\n",
       "    <tr>\n",
       "      <th>2</th>\n",
       "      <td>Male</td>\n",
       "      <td>16</td>\n",
       "      <td>2.9</td>\n",
       "      <td>49</td>\n",
       "      <td>8.5</td>\n",
       "      <td>72.2</td>\n",
       "      <td>No</td>\n",
       "      <td>Yes</td>\n",
       "    </tr>\n",
       "    <tr>\n",
       "      <th>3</th>\n",
       "      <td>Male</td>\n",
       "      <td>31</td>\n",
       "      <td>2.8</td>\n",
       "      <td>49</td>\n",
       "      <td>6.4</td>\n",
       "      <td>63.0</td>\n",
       "      <td>No</td>\n",
       "      <td>Yes</td>\n",
       "    </tr>\n",
       "    <tr>\n",
       "      <th>4</th>\n",
       "      <td>Male</td>\n",
       "      <td>15</td>\n",
       "      <td>3.1</td>\n",
       "      <td>49</td>\n",
       "      <td>10.5</td>\n",
       "      <td>49.0</td>\n",
       "      <td>No</td>\n",
       "      <td>Yes</td>\n",
       "    </tr>\n",
       "    <tr>\n",
       "      <th>...</th>\n",
       "      <td>...</td>\n",
       "      <td>...</td>\n",
       "      <td>...</td>\n",
       "      <td>...</td>\n",
       "      <td>...</td>\n",
       "      <td>...</td>\n",
       "      <td>...</td>\n",
       "      <td>...</td>\n",
       "    </tr>\n",
       "    <tr>\n",
       "      <th>9995</th>\n",
       "      <td>Male</td>\n",
       "      <td>15</td>\n",
       "      <td>3.0</td>\n",
       "      <td>49</td>\n",
       "      <td>9.0</td>\n",
       "      <td>63.0</td>\n",
       "      <td>No</td>\n",
       "      <td>Yes</td>\n",
       "    </tr>\n",
       "    <tr>\n",
       "      <th>9996</th>\n",
       "      <td>Female</td>\n",
       "      <td>12</td>\n",
       "      <td>2.8</td>\n",
       "      <td>48</td>\n",
       "      <td>7.7</td>\n",
       "      <td>63.0</td>\n",
       "      <td>No</td>\n",
       "      <td>No</td>\n",
       "    </tr>\n",
       "    <tr>\n",
       "      <th>9997</th>\n",
       "      <td>Male</td>\n",
       "      <td>16</td>\n",
       "      <td>2.8</td>\n",
       "      <td>49</td>\n",
       "      <td>7.7</td>\n",
       "      <td>49.0</td>\n",
       "      <td>No</td>\n",
       "      <td>No</td>\n",
       "    </tr>\n",
       "    <tr>\n",
       "      <th>9998</th>\n",
       "      <td>Male</td>\n",
       "      <td>14</td>\n",
       "      <td>2.8</td>\n",
       "      <td>49</td>\n",
       "      <td>10.0</td>\n",
       "      <td>69.0</td>\n",
       "      <td>No</td>\n",
       "      <td>Yes</td>\n",
       "    </tr>\n",
       "    <tr>\n",
       "      <th>9999</th>\n",
       "      <td>Female</td>\n",
       "      <td>10</td>\n",
       "      <td>3.0</td>\n",
       "      <td>49</td>\n",
       "      <td>7.7</td>\n",
       "      <td>80.0</td>\n",
       "      <td>No</td>\n",
       "      <td>Yes</td>\n",
       "    </tr>\n",
       "  </tbody>\n",
       "</table>\n",
       "<p>10000 rows × 8 columns</p>\n",
       "</div>"
      ],
      "text/plain": [
       "      Gender  Age  Birth Weight  Birth Length  Body Weight  Body Length  \\\n",
       "0       Male   17           3.0            49         10.0         72.2   \n",
       "1     Female   11           2.9            49          2.9         65.0   \n",
       "2       Male   16           2.9            49          8.5         72.2   \n",
       "3       Male   31           2.8            49          6.4         63.0   \n",
       "4       Male   15           3.1            49         10.5         49.0   \n",
       "...      ...  ...           ...           ...          ...          ...   \n",
       "9995    Male   15           3.0            49          9.0         63.0   \n",
       "9996  Female   12           2.8            48          7.7         63.0   \n",
       "9997    Male   16           2.8            49          7.7         49.0   \n",
       "9998    Male   14           2.8            49         10.0         69.0   \n",
       "9999  Female   10           3.0            49          7.7         80.0   \n",
       "\n",
       "     Breastfeeding Stunting  \n",
       "0               No       No  \n",
       "1               No      Yes  \n",
       "2               No      Yes  \n",
       "3               No      Yes  \n",
       "4               No      Yes  \n",
       "...            ...      ...  \n",
       "9995            No      Yes  \n",
       "9996            No       No  \n",
       "9997            No       No  \n",
       "9998            No      Yes  \n",
       "9999            No      Yes  \n",
       "\n",
       "[10000 rows x 8 columns]"
      ]
     },
     "execution_count": 36,
     "metadata": {},
     "output_type": "execute_result"
    }
   ],
   "source": [
    "# Load the dataset\n",
    "df = pd.read_csv('Stunting_Dataset.csv')\n",
    "df"
   ]
  },
  {
   "cell_type": "code",
   "execution_count": 37,
   "metadata": {
    "id": "MEc-YinAFeNm"
   },
   "outputs": [],
   "source": [
    "df = df.drop(columns=['Breastfeeding'])"
   ]
  },
  {
   "cell_type": "code",
   "execution_count": 38,
   "metadata": {
    "colab": {
     "base_uri": "https://localhost:8080/",
     "height": 705
    },
    "id": "sD6km1K1BF3-",
    "outputId": "379d316d-a936-4764-bef7-f7d470771870"
   },
   "outputs": [
    {
     "name": "stdout",
     "output_type": "stream",
     "text": [
      "Gender          0\n",
      "Age             0\n",
      "Birth Weight    0\n",
      "Birth Length    0\n",
      "Body Weight     0\n",
      "Body Length     0\n",
      "Stunting        0\n",
      "dtype: int64\n"
     ]
    },
    {
     "data": {
      "image/png": "[encoded data removed]",
      "text/plain": [
       "<Figure size 640x480 with 1 Axes>"
      ]
     },
     "metadata": {},
     "output_type": "display_data"
    }
   ],
   "source": [
    "print(df.isnull().sum())  # jumlah missing values per kolom\n",
    "sns.heatmap(df.isnull(), cbar=False, cmap='viridis')\n",
    "plt.show()"
   ]
  },
  {
   "cell_type": "code",
   "execution_count": 39,
   "metadata": {},
   "outputs": [
    {
     "name": "stdout",
     "output_type": "stream",
     "text": [
      "      Gender  Age  Birth Weight  Birth Length  Body Weight  Body Length  \\\n",
      "76      Male   13           2.9            49          9.0         69.0   \n",
      "121     Male    6           2.3            50          6.4         68.3   \n",
      "147     Male    6           2.3            50          6.4         68.3   \n",
      "207     Male   15           2.9            49          9.0         69.0   \n",
      "317     Male   13           2.3            50          6.4         68.3   \n",
      "...      ...  ...           ...           ...          ...          ...   \n",
      "9985    Male    7           2.3            50          6.4         68.3   \n",
      "9989  Female    9           3.0            49          7.1         65.0   \n",
      "9993    Male   12           2.3            49          9.0         69.0   \n",
      "9995    Male   15           3.0            49          9.0         63.0   \n",
      "9998    Male   14           2.8            49         10.0         69.0   \n",
      "\n",
      "     Stunting  \n",
      "76        Yes  \n",
      "121        No  \n",
      "147        No  \n",
      "207       Yes  \n",
      "317        No  \n",
      "...       ...  \n",
      "9985       No  \n",
      "9989      Yes  \n",
      "9993      Yes  \n",
      "9995      Yes  \n",
      "9998      Yes  \n",
      "\n",
      "[2427 rows x 7 columns]\n",
      "Jumlah data duplikat: 2427\n"
     ]
    }
   ],
   "source": [
    "# Cek data yang duplikat\n",
    "duplikat = df[df.duplicated()]\n",
    "\n",
    "# Menampilkan data duplikat\n",
    "print(duplikat)\n",
    "\n",
    "# Cek jumlah data duplikat\n",
    "print(f\"Jumlah data duplikat: {len(duplikat)}\")\n"
   ]
  },
  {
   "cell_type": "code",
   "execution_count": 40,
   "metadata": {},
   "outputs": [
    {
     "data": {
      "text/html": [
       "<div>\n",
       "<style scoped>\n",
       "    .dataframe tbody tr th:only-of-type {\n",
       "        vertical-align: middle;\n",
       "    }\n",
       "\n",
       "    .dataframe tbody tr th {\n",
       "        vertical-align: top;\n",
       "    }\n",
       "\n",
       "    .dataframe thead th {\n",
       "        text-align: right;\n",
       "    }\n",
       "</style>\n",
       "<table border=\"1\" class=\"dataframe\">\n",
       "  <thead>\n",
       "    <tr style=\"text-align: right;\">\n",
       "      <th></th>\n",
       "      <th>Gender</th>\n",
       "      <th>Age</th>\n",
       "      <th>Birth Weight</th>\n",
       "      <th>Birth Length</th>\n",
       "      <th>Body Weight</th>\n",
       "      <th>Body Length</th>\n",
       "      <th>Stunting</th>\n",
       "    </tr>\n",
       "  </thead>\n",
       "  <tbody>\n",
       "    <tr>\n",
       "      <th>0</th>\n",
       "      <td>Male</td>\n",
       "      <td>17</td>\n",
       "      <td>3.0</td>\n",
       "      <td>49</td>\n",
       "      <td>10.0</td>\n",
       "      <td>72.2</td>\n",
       "      <td>No</td>\n",
       "    </tr>\n",
       "    <tr>\n",
       "      <th>1</th>\n",
       "      <td>Female</td>\n",
       "      <td>11</td>\n",
       "      <td>2.9</td>\n",
       "      <td>49</td>\n",
       "      <td>2.9</td>\n",
       "      <td>65.0</td>\n",
       "      <td>Yes</td>\n",
       "    </tr>\n",
       "    <tr>\n",
       "      <th>2</th>\n",
       "      <td>Male</td>\n",
       "      <td>16</td>\n",
       "      <td>2.9</td>\n",
       "      <td>49</td>\n",
       "      <td>8.5</td>\n",
       "      <td>72.2</td>\n",
       "      <td>Yes</td>\n",
       "    </tr>\n",
       "    <tr>\n",
       "      <th>3</th>\n",
       "      <td>Male</td>\n",
       "      <td>31</td>\n",
       "      <td>2.8</td>\n",
       "      <td>49</td>\n",
       "      <td>6.4</td>\n",
       "      <td>63.0</td>\n",
       "      <td>Yes</td>\n",
       "    </tr>\n",
       "    <tr>\n",
       "      <th>4</th>\n",
       "      <td>Male</td>\n",
       "      <td>15</td>\n",
       "      <td>3.1</td>\n",
       "      <td>49</td>\n",
       "      <td>10.5</td>\n",
       "      <td>49.0</td>\n",
       "      <td>Yes</td>\n",
       "    </tr>\n",
       "    <tr>\n",
       "      <th>...</th>\n",
       "      <td>...</td>\n",
       "      <td>...</td>\n",
       "      <td>...</td>\n",
       "      <td>...</td>\n",
       "      <td>...</td>\n",
       "      <td>...</td>\n",
       "      <td>...</td>\n",
       "    </tr>\n",
       "    <tr>\n",
       "      <th>9992</th>\n",
       "      <td>Male</td>\n",
       "      <td>11</td>\n",
       "      <td>2.8</td>\n",
       "      <td>48</td>\n",
       "      <td>10.5</td>\n",
       "      <td>73.5</td>\n",
       "      <td>No</td>\n",
       "    </tr>\n",
       "    <tr>\n",
       "      <th>9994</th>\n",
       "      <td>Male</td>\n",
       "      <td>15</td>\n",
       "      <td>2.8</td>\n",
       "      <td>49</td>\n",
       "      <td>2.9</td>\n",
       "      <td>71.0</td>\n",
       "      <td>Yes</td>\n",
       "    </tr>\n",
       "    <tr>\n",
       "      <th>9996</th>\n",
       "      <td>Female</td>\n",
       "      <td>12</td>\n",
       "      <td>2.8</td>\n",
       "      <td>48</td>\n",
       "      <td>7.7</td>\n",
       "      <td>63.0</td>\n",
       "      <td>No</td>\n",
       "    </tr>\n",
       "    <tr>\n",
       "      <th>9997</th>\n",
       "      <td>Male</td>\n",
       "      <td>16</td>\n",
       "      <td>2.8</td>\n",
       "      <td>49</td>\n",
       "      <td>7.7</td>\n",
       "      <td>49.0</td>\n",
       "      <td>No</td>\n",
       "    </tr>\n",
       "    <tr>\n",
       "      <th>9999</th>\n",
       "      <td>Female</td>\n",
       "      <td>10</td>\n",
       "      <td>3.0</td>\n",
       "      <td>49</td>\n",
       "      <td>7.7</td>\n",
       "      <td>80.0</td>\n",
       "      <td>Yes</td>\n",
       "    </tr>\n",
       "  </tbody>\n",
       "</table>\n",
       "<p>7573 rows × 7 columns</p>\n",
       "</div>"
      ],
      "text/plain": [
       "      Gender  Age  Birth Weight  Birth Length  Body Weight  Body Length  \\\n",
       "0       Male   17           3.0            49         10.0         72.2   \n",
       "1     Female   11           2.9            49          2.9         65.0   \n",
       "2       Male   16           2.9            49          8.5         72.2   \n",
       "3       Male   31           2.8            49          6.4         63.0   \n",
       "4       Male   15           3.1            49         10.5         49.0   \n",
       "...      ...  ...           ...           ...          ...          ...   \n",
       "9992    Male   11           2.8            48         10.5         73.5   \n",
       "9994    Male   15           2.8            49          2.9         71.0   \n",
       "9996  Female   12           2.8            48          7.7         63.0   \n",
       "9997    Male   16           2.8            49          7.7         49.0   \n",
       "9999  Female   10           3.0            49          7.7         80.0   \n",
       "\n",
       "     Stunting  \n",
       "0          No  \n",
       "1         Yes  \n",
       "2         Yes  \n",
       "3         Yes  \n",
       "4         Yes  \n",
       "...       ...  \n",
       "9992       No  \n",
       "9994      Yes  \n",
       "9996       No  \n",
       "9997       No  \n",
       "9999      Yes  \n",
       "\n",
       "[7573 rows x 7 columns]"
      ]
     },
     "execution_count": 40,
     "metadata": {},
     "output_type": "execute_result"
    }
   ],
   "source": [
    "# Hapus data duplikat\n",
    "df = df.drop_duplicates()\n",
    "df"
   ]
  },
  {
   "cell_type": "code",
   "execution_count": 41,
   "metadata": {},
   "outputs": [
    {
     "name": "stdout",
     "output_type": "stream",
     "text": [
      "Empty DataFrame\n",
      "Columns: [Gender, Age, Birth Weight, Birth Length, Body Weight, Body Length, Stunting]\n",
      "Index: []\n",
      "Jumlah data duplikat: 0\n"
     ]
    }
   ],
   "source": [
    "# Cek data yang duplikat\n",
    "duplikat = df[df.duplicated()]\n",
    "\n",
    "# Menampilkan data duplikat\n",
    "print(duplikat)\n",
    "\n",
    "# Cek jumlah data duplikat\n",
    "print(f\"Jumlah data duplikat: {len(duplikat)}\")"
   ]
  },
  {
   "cell_type": "code",
   "execution_count": 42,
   "metadata": {
    "id": "mthNL6vsTjvG"
   },
   "outputs": [],
   "source": [
    "df = df.rename(columns={\n",
    "    'Birth Weight': 'Birth_Weight',\n",
    "    'Birth Length': 'Birth_Length',\n",
    "    'Body Weight': 'Body_Weight',\n",
    "    'Body Length': 'Body_Length'\n",
    "})"
   ]
  },
  {
   "cell_type": "code",
   "execution_count": 43,
   "metadata": {
    "colab": {
     "base_uri": "https://localhost:8080/"
    },
    "id": "1oxAdZimS9dp",
    "outputId": "62b94002-a76d-48c5-e79f-72a9d5ec787f"
   },
   "outputs": [
    {
     "name": "stdout",
     "output_type": "stream",
     "text": [
      "   Gender  Age  Birth_Weight  Birth_Length  Body_Weight  Body_Length Stunting  \\\n",
      "0    Male   17           3.0            49         10.0         72.2       No   \n",
      "1  Female   11           2.9            49          2.9         65.0      Yes   \n",
      "2    Male   16           2.9            49          8.5         72.2      Yes   \n",
      "3    Male   31           2.8            49          6.4         63.0      Yes   \n",
      "4    Male   15           3.1            49         10.5         49.0      Yes   \n",
      "\n",
      "        BMI  Weight_Diff  Length_Diff  \n",
      "0  0.001918          7.0         23.2  \n",
      "1  0.000686          0.0         16.0  \n",
      "2  0.001631          5.6         23.2  \n",
      "3  0.001612          3.6         14.0  \n",
      "4  0.004373          7.4          0.0  \n"
     ]
    }
   ],
   "source": [
    "# 1. BMI Bayi\n",
    "df['BMI'] = df['Body_Weight'] / (df['Body_Length'] ** 2)\n",
    "\n",
    "# 2. Perbedaan Berat dari saat Lahir hingga Sekarang\n",
    "df['Weight_Diff'] = df['Body_Weight'] - df['Birth_Weight']\n",
    "\n",
    "# 3. Perbedaan Panjang dari saat Lahir hingga Sekarang\n",
    "df['Length_Diff'] = df['Body_Length'] - df['Birth_Length']\n",
    "\n",
    "# Menampilkan data dengan fitur baru\n",
    "print(df.head())"
   ]
  },
  {
   "cell_type": "code",
   "execution_count": 44,
   "metadata": {
    "colab": {
     "base_uri": "https://localhost:8080/"
    },
    "id": "M7XlQ_qDA7F7",
    "outputId": "77e3b9db-b333-4e92-dd5c-25fd6b07de8e"
   },
   "outputs": [
    {
     "name": "stdout",
     "output_type": "stream",
     "text": [
      "(7573, 10)\n",
      "<class 'pandas.core.frame.DataFrame'>\n",
      "Index: 7573 entries, 0 to 9999\n",
      "Data columns (total 10 columns):\n",
      " #   Column        Non-Null Count  Dtype  \n",
      "---  ------        --------------  -----  \n",
      " 0   Gender        7573 non-null   object \n",
      " 1   Age           7573 non-null   int64  \n",
      " 2   Birth_Weight  7573 non-null   float64\n",
      " 3   Birth_Length  7573 non-null   int64  \n",
      " 4   Body_Weight   7573 non-null   float64\n",
      " 5   Body_Length   7573 non-null   float64\n",
      " 6   Stunting      7573 non-null   object \n",
      " 7   BMI           7573 non-null   float64\n",
      " 8   Weight_Diff   7573 non-null   float64\n",
      " 9   Length_Diff   7573 non-null   float64\n",
      "dtypes: float64(6), int64(2), object(2)\n",
      "memory usage: 650.8+ KB\n",
      "None\n",
      "   Gender  Age  Birth_Weight  Birth_Length  Body_Weight  Body_Length Stunting  \\\n",
      "0    Male   17           3.0            49         10.0         72.2       No   \n",
      "1  Female   11           2.9            49          2.9         65.0      Yes   \n",
      "2    Male   16           2.9            49          8.5         72.2      Yes   \n",
      "3    Male   31           2.8            49          6.4         63.0      Yes   \n",
      "4    Male   15           3.1            49         10.5         49.0      Yes   \n",
      "\n",
      "        BMI  Weight_Diff  Length_Diff  \n",
      "0  0.001918          7.0         23.2  \n",
      "1  0.000686          0.0         16.0  \n",
      "2  0.001631          5.6         23.2  \n",
      "3  0.001612          3.6         14.0  \n",
      "4  0.004373          7.4          0.0  \n"
     ]
    }
   ],
   "source": [
    "print(df.shape)  # ukuran dataset\n",
    "print(df.info()) # informasi tipe data\n",
    "print(df.head()) # beberapa baris pertama"
   ]
  },
  {
   "cell_type": "code",
   "execution_count": 45,
   "metadata": {
    "colab": {
     "base_uri": "https://localhost:8080/"
    },
    "id": "YEdQvjSdCBQ6",
    "outputId": "3e8404b6-ce50-4989-c30f-f1a06ac7c47c"
   },
   "outputs": [
    {
     "name": "stdout",
     "output_type": "stream",
     "text": [
      "               Age  Birth_Weight  Birth_Length  Body_Weight  Body_Length  \\\n",
      "count  7573.000000   7573.000000   7573.000000  7573.000000  7573.000000   \n",
      "mean     14.886967      2.762208     49.084643     7.630648    69.120269   \n",
      "std       8.580291      0.297725      0.436202     1.762529     9.401527   \n",
      "min       6.000000      2.000000     48.000000     2.900000    49.000000   \n",
      "25%      10.000000      2.800000     49.000000     7.000000    65.000000   \n",
      "50%      13.000000      2.800000     49.000000     7.700000    69.000000   \n",
      "75%      16.000000      3.000000     49.000000     9.000000    72.200000   \n",
      "max      48.000000      3.100000     50.000000    10.500000    92.700000   \n",
      "\n",
      "               BMI  Weight_Diff  Length_Diff  \n",
      "count  7573.000000  7573.000000  7573.000000  \n",
      "mean      0.001694     4.868441    20.035627  \n",
      "std       0.000658     1.780092     9.421906  \n",
      "min       0.000337    -0.200000    -1.000000  \n",
      "25%       0.001333     4.100000    16.000000  \n",
      "50%       0.001631     4.900000    20.000000  \n",
      "75%       0.001940     6.000000    23.200000  \n",
      "max       0.004373     8.500000    44.700000  \n"
     ]
    }
   ],
   "source": [
    "print(df.describe())  # statistik deskriptif"
   ]
  },
  {
   "cell_type": "code",
   "execution_count": 46,
   "metadata": {
    "colab": {
     "base_uri": "https://localhost:8080/",
     "height": 458
    },
    "id": "DZ1eVT8tw2-f",
    "outputId": "158a43a1-f1b0-48e5-e718-3811903b8818"
   },
   "outputs": [
    {
     "name": "stdout",
     "output_type": "stream",
     "text": [
      "\n",
      "Available columns after renaming: ['Gender', 'Age', 'Birth_Weight', 'Birth_Length', 'Body_Weight', 'Body_Length', 'Stunting', 'BMI', 'Weight_Diff', 'Length_Diff']\n"
     ]
    },
    {
     "data": {
      "text/html": [
       "<div>\n",
       "<style scoped>\n",
       "    .dataframe tbody tr th:only-of-type {\n",
       "        vertical-align: middle;\n",
       "    }\n",
       "\n",
       "    .dataframe tbody tr th {\n",
       "        vertical-align: top;\n",
       "    }\n",
       "\n",
       "    .dataframe thead th {\n",
       "        text-align: right;\n",
       "    }\n",
       "</style>\n",
       "<table border=\"1\" class=\"dataframe\">\n",
       "  <thead>\n",
       "    <tr style=\"text-align: right;\">\n",
       "      <th></th>\n",
       "      <th>Gender</th>\n",
       "      <th>Age</th>\n",
       "      <th>Birth_Weight</th>\n",
       "      <th>Birth_Length</th>\n",
       "      <th>Body_Weight</th>\n",
       "      <th>Body_Length</th>\n",
       "      <th>Stunting</th>\n",
       "      <th>BMI</th>\n",
       "      <th>Weight_Diff</th>\n",
       "      <th>Length_Diff</th>\n",
       "    </tr>\n",
       "  </thead>\n",
       "  <tbody>\n",
       "    <tr>\n",
       "      <th>0</th>\n",
       "      <td>1</td>\n",
       "      <td>0.261905</td>\n",
       "      <td>0.909091</td>\n",
       "      <td>0.5</td>\n",
       "      <td>0.934211</td>\n",
       "      <td>0.530892</td>\n",
       "      <td>0</td>\n",
       "      <td>0.391720</td>\n",
       "      <td>0.827586</td>\n",
       "      <td>0.529540</td>\n",
       "    </tr>\n",
       "    <tr>\n",
       "      <th>1</th>\n",
       "      <td>0</td>\n",
       "      <td>0.119048</td>\n",
       "      <td>0.818182</td>\n",
       "      <td>0.5</td>\n",
       "      <td>0.000000</td>\n",
       "      <td>0.366133</td>\n",
       "      <td>1</td>\n",
       "      <td>0.086458</td>\n",
       "      <td>0.022989</td>\n",
       "      <td>0.371991</td>\n",
       "    </tr>\n",
       "    <tr>\n",
       "      <th>2</th>\n",
       "      <td>1</td>\n",
       "      <td>0.238095</td>\n",
       "      <td>0.818182</td>\n",
       "      <td>0.5</td>\n",
       "      <td>0.736842</td>\n",
       "      <td>0.530892</td>\n",
       "      <td>1</td>\n",
       "      <td>0.320419</td>\n",
       "      <td>0.666667</td>\n",
       "      <td>0.529540</td>\n",
       "    </tr>\n",
       "    <tr>\n",
       "      <th>3</th>\n",
       "      <td>1</td>\n",
       "      <td>0.595238</td>\n",
       "      <td>0.727273</td>\n",
       "      <td>0.5</td>\n",
       "      <td>0.460526</td>\n",
       "      <td>0.320366</td>\n",
       "      <td>1</td>\n",
       "      <td>0.315936</td>\n",
       "      <td>0.436782</td>\n",
       "      <td>0.328228</td>\n",
       "    </tr>\n",
       "    <tr>\n",
       "      <th>4</th>\n",
       "      <td>1</td>\n",
       "      <td>0.214286</td>\n",
       "      <td>1.000000</td>\n",
       "      <td>0.5</td>\n",
       "      <td>1.000000</td>\n",
       "      <td>0.000000</td>\n",
       "      <td>1</td>\n",
       "      <td>1.000000</td>\n",
       "      <td>0.873563</td>\n",
       "      <td>0.021882</td>\n",
       "    </tr>\n",
       "    <tr>\n",
       "      <th>...</th>\n",
       "      <td>...</td>\n",
       "      <td>...</td>\n",
       "      <td>...</td>\n",
       "      <td>...</td>\n",
       "      <td>...</td>\n",
       "      <td>...</td>\n",
       "      <td>...</td>\n",
       "      <td>...</td>\n",
       "      <td>...</td>\n",
       "      <td>...</td>\n",
       "    </tr>\n",
       "    <tr>\n",
       "      <th>9992</th>\n",
       "      <td>1</td>\n",
       "      <td>0.119048</td>\n",
       "      <td>0.727273</td>\n",
       "      <td>0.0</td>\n",
       "      <td>1.000000</td>\n",
       "      <td>0.560641</td>\n",
       "      <td>0</td>\n",
       "      <td>0.397988</td>\n",
       "      <td>0.908046</td>\n",
       "      <td>0.579869</td>\n",
       "    </tr>\n",
       "    <tr>\n",
       "      <th>9994</th>\n",
       "      <td>1</td>\n",
       "      <td>0.214286</td>\n",
       "      <td>0.727273</td>\n",
       "      <td>0.5</td>\n",
       "      <td>0.000000</td>\n",
       "      <td>0.503432</td>\n",
       "      <td>1</td>\n",
       "      <td>0.058927</td>\n",
       "      <td>0.034483</td>\n",
       "      <td>0.503282</td>\n",
       "    </tr>\n",
       "    <tr>\n",
       "      <th>9996</th>\n",
       "      <td>0</td>\n",
       "      <td>0.142857</td>\n",
       "      <td>0.727273</td>\n",
       "      <td>0.0</td>\n",
       "      <td>0.631579</td>\n",
       "      <td>0.320366</td>\n",
       "      <td>0</td>\n",
       "      <td>0.397096</td>\n",
       "      <td>0.586207</td>\n",
       "      <td>0.350109</td>\n",
       "    </tr>\n",
       "    <tr>\n",
       "      <th>9997</th>\n",
       "      <td>1</td>\n",
       "      <td>0.238095</td>\n",
       "      <td>0.727273</td>\n",
       "      <td>0.5</td>\n",
       "      <td>0.631579</td>\n",
       "      <td>0.000000</td>\n",
       "      <td>0</td>\n",
       "      <td>0.711034</td>\n",
       "      <td>0.586207</td>\n",
       "      <td>0.021882</td>\n",
       "    </tr>\n",
       "    <tr>\n",
       "      <th>9999</th>\n",
       "      <td>0</td>\n",
       "      <td>0.095238</td>\n",
       "      <td>0.909091</td>\n",
       "      <td>0.5</td>\n",
       "      <td>0.631579</td>\n",
       "      <td>0.709382</td>\n",
       "      <td>1</td>\n",
       "      <td>0.214498</td>\n",
       "      <td>0.563218</td>\n",
       "      <td>0.700219</td>\n",
       "    </tr>\n",
       "  </tbody>\n",
       "</table>\n",
       "<p>7573 rows × 10 columns</p>\n",
       "</div>"
      ],
      "text/plain": [
       "      Gender       Age  Birth_Weight  Birth_Length  Body_Weight  Body_Length  \\\n",
       "0          1  0.261905      0.909091           0.5     0.934211     0.530892   \n",
       "1          0  0.119048      0.818182           0.5     0.000000     0.366133   \n",
       "2          1  0.238095      0.818182           0.5     0.736842     0.530892   \n",
       "3          1  0.595238      0.727273           0.5     0.460526     0.320366   \n",
       "4          1  0.214286      1.000000           0.5     1.000000     0.000000   \n",
       "...      ...       ...           ...           ...          ...          ...   \n",
       "9992       1  0.119048      0.727273           0.0     1.000000     0.560641   \n",
       "9994       1  0.214286      0.727273           0.5     0.000000     0.503432   \n",
       "9996       0  0.142857      0.727273           0.0     0.631579     0.320366   \n",
       "9997       1  0.238095      0.727273           0.5     0.631579     0.000000   \n",
       "9999       0  0.095238      0.909091           0.5     0.631579     0.709382   \n",
       "\n",
       "      Stunting       BMI  Weight_Diff  Length_Diff  \n",
       "0            0  0.391720     0.827586     0.529540  \n",
       "1            1  0.086458     0.022989     0.371991  \n",
       "2            1  0.320419     0.666667     0.529540  \n",
       "3            1  0.315936     0.436782     0.328228  \n",
       "4            1  1.000000     0.873563     0.021882  \n",
       "...        ...       ...          ...          ...  \n",
       "9992         0  0.397988     0.908046     0.579869  \n",
       "9994         1  0.058927     0.034483     0.503282  \n",
       "9996         0  0.397096     0.586207     0.350109  \n",
       "9997         0  0.711034     0.586207     0.021882  \n",
       "9999         1  0.214498     0.563218     0.700219  \n",
       "\n",
       "[7573 rows x 10 columns]"
      ]
     },
     "execution_count": 46,
     "metadata": {},
     "output_type": "execute_result"
    }
   ],
   "source": [
    "# Initialize encoders and scaler\n",
    "le = LabelEncoder()\n",
    "scaler = MinMaxScaler()\n",
    "\n",
    "# Convert categorical/boolean columns to numeric\n",
    "df['Stunting'] = le.fit_transform(df['Stunting'])\n",
    "df['Gender'] = le.fit_transform(df['Gender'])\n",
    "\n",
    "# Define numeric features with the correct column names\n",
    "numeric_features = ['Age', 'Birth_Weight', 'Birth_Length', 'Body_Weight', 'Body_Length', 'BMI', 'Weight_Diff', 'Length_Diff']\n",
    "\n",
    "# Verify columns exist\n",
    "print(\"\\nAvailable columns after renaming:\", df.columns.tolist())\n",
    "\n",
    "# Scale numeric features\n",
    "df[numeric_features] = scaler.fit_transform(df[numeric_features])\n",
    "df"
   ]
  },
  {
   "cell_type": "code",
   "execution_count": 47,
   "metadata": {
    "id": "9VxdhtFzxFzC"
   },
   "outputs": [],
   "source": [
    "# Split the dataset into training and testing sets\n",
    "from sklearn.model_selection import train_test_split\n",
    "train_df, test_df = train_test_split(df, test_size=0.2, random_state=42)"
   ]
  },
  {
   "cell_type": "code",
   "execution_count": 48,
   "metadata": {
    "id": "CimiroX0ahS7"
   },
   "outputs": [],
   "source": [
    "label = \"Stunting\"\n",
    "\n",
    "# Konversi dataframe pandas ke tf.data.Dataset\n",
    "train_ds = tfdf.keras.pd_dataframe_to_tf_dataset(train_df, label=label)\n",
    "test_ds = tfdf.keras.pd_dataframe_to_tf_dataset(test_df, label=label)\n"
   ]
  },
  {
   "cell_type": "code",
   "execution_count": 49,
   "metadata": {
    "colab": {
     "base_uri": "https://localhost:8080/"
    },
    "id": "h189rraBxaRN",
    "outputId": "6d4c49b6-bc26-4777-b901-cc7381f4959f"
   },
   "outputs": [
    {
     "name": "stdout",
     "output_type": "stream",
     "text": [
      "Use /tmp/tmpd2n5o68c as temporary training directory\n",
      "Reading training dataset...\n",
      "Training dataset read in 0:00:00.139556. Found 6058 examples.\n",
      "Training model...\n"
     ]
    },
    {
     "name": "stderr",
     "output_type": "stream",
     "text": [
      "2024-11-24 03:11:42.828355: W external/ydf/yggdrasil_decision_forests/learner/gradient_boosted_trees/gradient_boosted_trees.cc:1840] \"goss_alpha\" set but \"sampling_method\" not equal to \"GOSS\".\n",
      "2024-11-24 03:11:42.828398: W external/ydf/yggdrasil_decision_forests/learner/gradient_boosted_trees/gradient_boosted_trees.cc:1850] \"goss_beta\" set but \"sampling_method\" not equal to \"GOSS\".\n",
      "2024-11-24 03:11:42.828409: W external/ydf/yggdrasil_decision_forests/learner/gradient_boosted_trees/gradient_boosted_trees.cc:1864] \"selective_gradient_boosting_ratio\" set but \"sampling_method\" not equal to \"SELGB\".\n",
      "I0000 00:00:1732392702.975939   10485 kernel.cc:782] Start Yggdrasil model training\n",
      "I0000 00:00:1732392702.975963   10485 kernel.cc:783] Collect training examples\n",
      "I0000 00:00:1732392702.975970   10485 kernel.cc:795] Dataspec guide:\n",
      "column_guides {\n",
      "  column_name_pattern: \"^__LABEL$\"\n",
      "  type: CATEGORICAL\n",
      "  categorial {\n",
      "    min_vocab_frequency: 0\n",
      "    max_vocab_count: -1\n",
      "  }\n",
      "}\n",
      "default_column_guide {\n",
      "  categorial {\n",
      "    max_vocab_count: 2000\n",
      "  }\n",
      "  discretized_numerical {\n",
      "    maximum_num_bins: 255\n",
      "  }\n",
      "}\n",
      "ignore_columns_without_guides: false\n",
      "detect_numerical_as_discretized_numerical: false\n",
      "\n",
      "I0000 00:00:1732392702.976031   10485 kernel.cc:401] Number of batches: 7\n",
      "I0000 00:00:1732392702.976038   10485 kernel.cc:402] Number of examples: 6058\n",
      "I0000 00:00:1732392702.976435   10485 kernel.cc:802] Training dataset:\n",
      "Number of records: 6058\n",
      "Number of columns: 10\n",
      "\n",
      "Number of columns by type:\n",
      "\tNUMERICAL: 9 (90%)\n",
      "\tCATEGORICAL: 1 (10%)\n",
      "\n",
      "Columns:\n",
      "\n",
      "NUMERICAL: 9 (90%)\n",
      "\t0: \"Age\" NUMERICAL mean:0.211971 min:0 max:1 sd:0.204877\n",
      "\t1: \"BMI\" NUMERICAL mean:0.336982 min:0 max:1 sd:0.16521\n",
      "\t2: \"Birth_Length\" NUMERICAL mean:0.545395 min:0 max:1 sd:0.217286\n",
      "\t3: \"Birth_Weight\" NUMERICAL mean:0.694814 min:0 max:1 sd:0.269048\n",
      "\t4: \"Body_Length\" NUMERICAL mean:0.458594 min:0 max:1 sd:0.217212\n",
      "\t5: \"Body_Weight\" NUMERICAL mean:0.62063 min:0 max:1 sd:0.232785\n",
      "\t6: \"Gender\" NUMERICAL mean:0.609607 min:0 max:1 sd:0.487838\n",
      "\t7: \"Length_Diff\" NUMERICAL mean:0.45842 min:0 max:1 sd:0.208135\n",
      "\t8: \"Weight_Diff\" NUMERICAL mean:0.580746 min:0 max:1 sd:0.20523\n",
      "\n",
      "CATEGORICAL: 1 (10%)\n",
      "\t9: \"__LABEL\" CATEGORICAL integerized vocab-size:3 no-ood-item\n",
      "\n",
      "Terminology:\n",
      "\tnas: Number of non-available (i.e. missing) values.\n",
      "\tood: Out of dictionary.\n",
      "\tmanually-defined: Attribute whose type is manually defined by the user, i.e., the type was not automatically inferred.\n",
      "\ttokenized: The attribute value is obtained through tokenization.\n",
      "\thas-dict: The attribute is attached to a string dictionary e.g. a categorical attribute stored as a string.\n",
      "\tvocab-size: Number of unique values.\n",
      "\n",
      "I0000 00:00:1732392702.976452   10485 kernel.cc:818] Configure learner\n",
      "2024-11-24 03:11:42.976593: W external/ydf/yggdrasil_decision_forests/learner/gradient_boosted_trees/gradient_boosted_trees.cc:1840] \"goss_alpha\" set but \"sampling_method\" not equal to \"GOSS\".\n",
      "2024-11-24 03:11:42.976613: W external/ydf/yggdrasil_decision_forests/learner/gradient_boosted_trees/gradient_boosted_trees.cc:1850] \"goss_beta\" set but \"sampling_method\" not equal to \"GOSS\".\n",
      "2024-11-24 03:11:42.976619: W external/ydf/yggdrasil_decision_forests/learner/gradient_boosted_trees/gradient_boosted_trees.cc:1864] \"selective_gradient_boosting_ratio\" set but \"sampling_method\" not equal to \"SELGB\".\n",
      "I0000 00:00:1732392702.976652   10485 kernel.cc:831] Training config:\n",
      "learner: \"GRADIENT_BOOSTED_TREES\"\n",
      "features: \"^Age$\"\n",
      "features: \"^BMI$\"\n",
      "features: \"^Birth_Length$\"\n",
      "features: \"^Birth_Weight$\"\n",
      "features: \"^Body_Length$\"\n",
      "features: \"^Body_Weight$\"\n",
      "features: \"^Gender$\"\n",
      "features: \"^Length_Diff$\"\n",
      "features: \"^Weight_Diff$\"\n",
      "label: \"^__LABEL$\"\n",
      "task: CLASSIFICATION\n",
      "random_seed: 123456\n",
      "metadata {\n",
      "  framework: \"TF Keras\"\n",
      "}\n",
      "pure_serving_model: false\n",
      "[yggdrasil_decision_forests.model.gradient_boosted_trees.proto.gradient_boosted_trees_config] {\n",
      "  num_trees: 300\n",
      "  decision_tree {\n",
      "    max_depth: 8\n",
      "    min_examples: 5\n",
      "    in_split_min_examples_check: true\n",
      "    keep_non_leaf_label_distribution: true\n",
      "    missing_value_policy: GLOBAL_IMPUTATION\n",
      "    allow_na_conditions: false\n",
      "    categorical_set_greedy_forward {\n",
      "      sampling: 0.1\n",
      "      max_num_items: -1\n",
      "      min_item_frequency: 1\n",
      "    }\n",
      "    growing_strategy_local {\n",
      "    }\n",
      "    categorical {\n",
      "      random {\n",
      "      }\n",
      "    }\n",
      "    num_candidate_attributes_ratio: 0.5\n",
      "    sparse_oblique_split {\n",
      "      projection_density_factor: 3\n",
      "      binary_weight: true\n",
      "      normalization: NONE\n",
      "    }\n",
      "    internal {\n",
      "      sorting_strategy: PRESORTED\n",
      "    }\n",
      "    uplift {\n",
      "      min_examples_in_treatment: 5\n",
      "      split_score: KULLBACK_LEIBLER\n",
      "    }\n",
      "  }\n",
      "  shrinkage: 0.1\n",
      "  loss: DEFAULT\n",
      "  validation_set_ratio: 0.1\n",
      "  validation_interval_in_trees: 1\n",
      "  early_stopping: VALIDATION_LOSS_INCREASE\n",
      "  early_stopping_num_trees_look_ahead: 30\n",
      "  l2_regularization: 0\n",
      "  lambda_loss: 1\n",
      "  mart {\n",
      "  }\n",
      "  adapt_subsample_for_maximum_training_duration: false\n",
      "  l1_regularization: 0\n",
      "  use_hessian_gain: false\n",
      "  l2_regularization_categorical: 1\n",
      "  xe_ndcg {\n",
      "    ndcg_truncation: 5\n",
      "  }\n",
      "  stochastic_gradient_boosting {\n",
      "    ratio: 1\n",
      "  }\n",
      "  apply_link_function: true\n",
      "  compute_permutation_variable_importance: false\n",
      "  early_stopping_initial_iteration: 10\n",
      "}\n",
      "\n",
      "I0000 00:00:1732392702.976722   10485 kernel.cc:834] Deployment config:\n",
      "cache_path: \"/tmp/tmpd2n5o68c/working_cache\"\n",
      "num_threads: 12\n",
      "try_resume_training: true\n",
      "\n",
      "I0000 00:00:1732392702.976821   23966 kernel.cc:895] Train model\n",
      "2024-11-24 03:11:42.976947: I external/ydf/yggdrasil_decision_forests/learner/gradient_boosted_trees/gradient_boosted_trees.cc:575] Default loss set to BINOMIAL_LOG_LIKELIHOOD\n",
      "2024-11-24 03:11:42.976984: I external/ydf/yggdrasil_decision_forests/learner/gradient_boosted_trees/gradient_boosted_trees.cc:1188] Training gradient boosted tree on 6058 example(s) and 9 feature(s).\n",
      "2024-11-24 03:11:42.978377: I external/ydf/yggdrasil_decision_forests/learner/gradient_boosted_trees/gradient_boosted_trees.cc:1228] 5460 examples used for training and 598 examples used for validation\n",
      "2024-11-24 03:11:43.010772: I external/ydf/yggdrasil_decision_forests/learner/gradient_boosted_trees/gradient_boosted_trees.cc:1603] \tnum-trees:1 train-loss:0.934588 train-accuracy:0.803297 valid-loss:0.934190 valid-accuracy:0.814381\n",
      "2024-11-24 03:11:43.040333: I external/ydf/yggdrasil_decision_forests/learner/gradient_boosted_trees/gradient_boosted_trees.cc:1605] \tnum-trees:2 train-loss:0.891209 train-accuracy:0.803297 valid-loss:0.916292 valid-accuracy:0.814381\n"
     ]
    },
    {
     "name": "stdout",
     "output_type": "stream",
     "text": [
      "Model trained in 0:00:01.261097\n",
      "Compiling model...\n",
      "Model compiled.\n"
     ]
    },
    {
     "name": "stderr",
     "output_type": "stream",
     "text": [
      "I0000 00:00:1732392704.209845   23966 early_stopping.cc:54] Early stop of the training because the validation loss does not decrease anymore. Best valid-loss: 0.848588\n",
      "2024-11-24 03:11:44.209891: I external/ydf/yggdrasil_decision_forests/learner/gradient_boosted_trees/gradient_boosted_trees.cc:1640] Create final snapshot of the model at iteration 43\n",
      "2024-11-24 03:11:44.213584: I external/ydf/yggdrasil_decision_forests/learner/gradient_boosted_trees/gradient_boosted_trees.cc:277] Truncates the model to 14 tree(s) i.e. 14  iteration(s).\n",
      "2024-11-24 03:11:44.214084: I external/ydf/yggdrasil_decision_forests/learner/gradient_boosted_trees/gradient_boosted_trees.cc:339] Final model num-trees:14 valid-loss:0.848588 valid-accuracy:0.822742\n",
      "I0000 00:00:1732392704.214936   23966 kernel.cc:926] Export model in log directory: /tmp/tmpd2n5o68c with prefix 4951dd98536d40cf\n",
      "I0000 00:00:1732392704.225924   23966 kernel.cc:944] Save model in resources\n",
      "I0000 00:00:1732392704.227310   10485 abstract_model.cc:914] Model self evaluation:\n",
      "Task: CLASSIFICATION\n",
      "Label: __LABEL\n",
      "Loss (BINOMIAL_LOG_LIKELIHOOD): 0.848588\n",
      "\n",
      "Accuracy: 0.822742  CI95[W][0 1]\n",
      "ErrorRate: : 0.177258\n",
      "\n",
      "\n",
      "Confusion Table:\n",
      "truth\\prediction\n",
      "    1    2\n",
      "1  22   89\n",
      "2  17  470\n",
      "Total: 598\n",
      "\n",
      "\n",
      "2024-11-24 03:11:44.231015: I tensorflow_decision_forests/tensorflow/ops/inference/kernel.cc:1206] Loading model from path /tmp/tmpd2n5o68c/model/ with prefix 4951dd98536d40cf\n",
      "I0000 00:00:1732392704.234844   10485 decision_forest.cc:761] Model loaded with 14 root(s), 2222 node(s), and 9 input feature(s).\n",
      "I0000 00:00:1732392704.234866   10485 abstract_model.cc:1404] Engine \"GradientBoostedTreesGeneric\" built\n",
      "2024-11-24 03:11:44.234873: I tensorflow_decision_forests/tensorflow/ops/inference/kernel.cc:1035] Use fast generic engine\n"
     ]
    },
    {
     "data": {
      "text/plain": [
       "<tf_keras.src.callbacks.History at 0x7a7cbd328eb0>"
      ]
     },
     "execution_count": 49,
     "metadata": {},
     "output_type": "execute_result"
    }
   ],
   "source": [
    "# # Model GBT\n",
    "# model = tfdf.keras.GradientBoostedTreesModel(task=tfdf.keras.Task.CLASSIFICATION,hyperparameter_template=\"benchmark_rank1\")\n",
    "\n",
    "# # Latih model\n",
    "# model.fit(train_ds)\n",
    "\n",
    "# # Create a Random Search tuner with 50 trials and automatic hp configuration.\n",
    "# tuner = tfdf.tuner.RandomSearch(num_trials=50, use_predefined_hps=True)\n",
    "\n",
    "# # Define and train the model.\n",
    "# tuned_model = tfdf.keras.GradientBoostedTreesModel(tuner=tuner)\n",
    "# tuned_model.fit(train_ds, verbose=2)\n",
    "\n",
    "# Set hyperparameter\n",
    "# Set hyperparameter dengan float pada density factor\n",
    "model = tfdf.keras.GradientBoostedTreesModel(\n",
    "    task=tfdf.keras.Task.CLASSIFICATION,\n",
    "    split_axis=\"SPARSE_OBLIQUE\",\n",
    "    sparse_oblique_projection_density_factor=3.0,  # Ubah ke float\n",
    "    sparse_oblique_normalization=\"NONE\",\n",
    "    sparse_oblique_weights=\"BINARY\",\n",
    "    categorical_algorithm=\"RANDOM\",\n",
    "    growing_strategy=\"LOCAL\",\n",
    "    max_depth=8,\n",
    "    sampling_method=\"RANDOM\",\n",
    "    subsample=1.0,\n",
    "    shrinkage=0.1,\n",
    "    min_examples=5,\n",
    "    use_hessian_gain=False,\n",
    "    num_candidate_attributes_ratio=0.5\n",
    ")\n",
    "\n",
    "# Latih model\n",
    "model.fit(train_ds)\n",
    "\n",
    "# # Model GBT\n",
    "# model = tfdf.keras.RandomForestModel(task=tfdf.keras.Task.CLASSIFICATION)\n",
    "\n",
    "# # Latih model\n",
    "# model.fit(train_ds)\n",
    "\n",
    "# # Model GBT\n",
    "# model = tfdf.keras.CartModel(task=tfdf.keras.Task.CLASSIFICATION)\n",
    "\n",
    "# # Latih model\n",
    "# model.fit(train_ds)\n",
    "\n"
   ]
  },
  {
   "cell_type": "code",
   "execution_count": 50,
   "metadata": {},
   "outputs": [
    {
     "name": "stdout",
     "output_type": "stream",
     "text": [
      "2/2 [==============================] - 0s 3ms/step - loss: 0.0000e+00 - accuracy: 0.8317\n",
      "\n",
      "loss: 0.0000\n",
      "accuracy: 0.8317\n"
     ]
    }
   ],
   "source": [
    "model.compile(metrics=[\"accuracy\"])\n",
    "evaluation = model.evaluate(test_ds, return_dict=True)\n",
    "print()\n",
    "\n",
    "for name, value in evaluation.items():\n",
    "  print(f\"{name}: {value:.4f}\")"
   ]
  },
  {
   "cell_type": "code",
   "execution_count": 51,
   "metadata": {
    "colab": {
     "base_uri": "https://localhost:8080/"
    },
    "id": "VKVKNPxHd4Wt",
    "outputId": "2ebaa47b-6150-45e9-cd5b-f0f273ecafa1"
   },
   "outputs": [
    {
     "data": {
      "text/plain": [
       "Evaluation(num_examples=None, accuracy=0.8227424621582031, loss=0.8485884070396423, rmse=None, ndcg=None, aucs=None, auuc=None, qini=None)"
      ]
     },
     "execution_count": 51,
     "metadata": {},
     "output_type": "execute_result"
    }
   ],
   "source": [
    "model.make_inspector().evaluation()"
   ]
  },
  {
   "cell_type": "code",
   "execution_count": 52,
   "metadata": {
    "colab": {
     "base_uri": "https://localhost:8080/",
     "height": 388
    },
    "id": "jFwChpX1eKin",
    "outputId": "86654b48-c313-4951-b8c1-c96aba246dc5"
   },
   "outputs": [
    {
     "data": {
      "image/png": "[encoded data removed]",
      "text/plain": [
       "<Figure size 1200x400 with 2 Axes>"
      ]
     },
     "metadata": {},
     "output_type": "display_data"
    }
   ],
   "source": [
    "logs = model.make_inspector().training_logs()\n",
    "\n",
    "plt.figure(figsize=(12, 4))\n",
    "\n",
    "plt.subplot(1, 2, 1)\n",
    "plt.plot([log.num_trees for log in logs], [log.evaluation.accuracy for log in logs])\n",
    "plt.xlabel(\"Number of trees\")\n",
    "plt.ylabel(\"Accuracy (out-of-bag)\")\n",
    "\n",
    "plt.subplot(1, 2, 2)\n",
    "plt.plot([log.num_trees for log in logs], [log.evaluation.loss for log in logs])\n",
    "plt.xlabel(\"Number of trees\")\n",
    "plt.ylabel(\"Logloss (out-of-bag)\")\n",
    "\n",
    "plt.show()"
   ]
  },
  {
   "cell_type": "code",
   "execution_count": 53,
   "metadata": {
    "colab": {
     "base_uri": "https://localhost:8080/"
    },
    "id": "xCDviXzioyNv",
    "outputId": "18180a36-9361-43a0-c275-a49b19b90002"
   },
   "outputs": [
    {
     "name": "stdout",
     "output_type": "stream",
     "text": [
      "2/2 [==============================] - 0s 4ms/step - loss: 0.0000e+00 - accuracy: 0.8317\n"
     ]
    },
    {
     "data": {
      "text/plain": [
       "[0.0, 0.8316831588745117]"
      ]
     },
     "execution_count": 53,
     "metadata": {},
     "output_type": "execute_result"
    }
   ],
   "source": [
    "# Evaluasi model menggunakan data uji\n",
    "evaluation = model.evaluate(test_ds)\n",
    "evaluation"
   ]
  },
  {
   "cell_type": "code",
   "execution_count": 54,
   "metadata": {
    "colab": {
     "base_uri": "https://localhost:8080/"
    },
    "id": "lI2bZ2BNpLXE",
    "outputId": "1cea95b4-6db6-4e19-8677-169c6b0db076"
   },
   "outputs": [
    {
     "name": "stdout",
     "output_type": "stream",
     "text": [
      "{'INV_MEAN_MIN_DEPTH': [(\"Age\" (1; #0), 0.5566828755872373), (\"Birth_Length\" (1; #2), 0.28505281143484956), (\"BMI\" (1; #1), 0.2028592775950916), (\"Birth_Weight\" (1; #3), 0.15812029702648836), (\"Body_Weight\" (1; #5), 0.14155992381833024), (\"Body_Length\" (1; #4), 0.1413532954507746), (\"Gender\" (1; #6), 0.13508802410401965), (\"Weight_Diff\" (1; #8), 0.1329594843766315), (\"Length_Diff\" (1; #7), 0.13237322943525817)], 'NUM_AS_ROOT': [(\"Birth_Length\" (1; #2), 7.0), (\"Age\" (1; #0), 5.0), (\"BMI\" (1; #1), 2.0)], 'SUM_SCORE': [(\"Age\" (1; #0), 745.9948005933929), (\"Birth_Length\" (1; #2), 436.5629784934863), (\"BMI\" (1; #1), 265.2125661721202), (\"Birth_Weight\" (1; #3), 102.68979310541181), (\"Body_Length\" (1; #4), 63.7414520518214), (\"Body_Weight\" (1; #5), 56.377911277348176), (\"Gender\" (1; #6), 10.002423363621347), (\"Length_Diff\" (1; #7), 8.894417932722718), (\"Weight_Diff\" (1; #8), 7.948553164373152)], 'NUM_NODES': [(\"Age\" (1; #0), 593.0), (\"BMI\" (1; #1), 214.0), (\"Birth_Length\" (1; #2), 115.0), (\"Birth_Weight\" (1; #3), 83.0), (\"Body_Length\" (1; #4), 48.0), (\"Body_Weight\" (1; #5), 29.0), (\"Gender\" (1; #6), 10.0), (\"Length_Diff\" (1; #7), 7.0), (\"Weight_Diff\" (1; #8), 5.0)]}\n"
     ]
    }
   ],
   "source": [
    "feature_importance = model.make_inspector().variable_importances()\n",
    "print(feature_importance)"
   ]
  },
  {
   "cell_type": "code",
   "execution_count": 55,
   "metadata": {
    "colab": {
     "base_uri": "https://localhost:8080/"
    },
    "id": "aLortpC23TZo",
    "outputId": "593e8480-2536-4682-abb1-8b60ea99cdd9"
   },
   "outputs": [
    {
     "name": "stdout",
     "output_type": "stream",
     "text": [
      "2/2 [==============================] - 0s 4ms/step\n",
      "Jumlah prediksi di bawah 0.5: 99\n"
     ]
    }
   ],
   "source": [
    "# Generate predictions\n",
    "predictions = model.predict(test_ds)\n",
    "\n",
    "# Hitung jumlah prediksi yang nilainya di bawah 0.5\n",
    "below_threshold_count = np.sum(predictions < 0.5)\n",
    "\n",
    "print(f\"Jumlah prediksi di bawah 0.5: {below_threshold_count}\")\n"
   ]
  },
  {
   "cell_type": "code",
   "execution_count": 56,
   "metadata": {
    "id": "wq8qRv5MMBj1"
   },
   "outputs": [
    {
     "name": "stdout",
     "output_type": "stream",
     "text": [
      "INFO:tensorflow:Assets written to: model/assets\n"
     ]
    },
    {
     "name": "stderr",
     "output_type": "stream",
     "text": [
      "INFO:tensorflow:Assets written to: model/assets\n"
     ]
    }
   ],
   "source": [
    "model.save(\"model\")"
   ]
  },
  {
   "cell_type": "code",
   "execution_count": 57,
   "metadata": {
    "colab": {
     "base_uri": "https://localhost:8080/"
    },
    "id": "U4_Nzc_vNtIz",
    "outputId": "b97b05be-7af1-4352-d201-0220ca5796b4"
   },
   "outputs": [
    {
     "name": "stdout",
     "output_type": "stream",
     "text": [
      "  adding: model/ (stored 0%)\n",
      "  adding: model/assets/ (stored 0%)\n",
      "  adding: model/assets/4951dd98536d40cfdone (stored 0%)\n",
      "  adding: model/assets/4951dd98536d40cfgradient_boosted_trees_header.pb (deflated 74%)\n",
      "  adding: model/assets/4951dd98536d40cfheader.pb (deflated 31%)\n",
      "  adding: model/assets/4951dd98536d40cfdata_spec.pb (deflated 34%)\n",
      "  adding: model/assets/4951dd98536d40cfnodes-00000-of-00001 (deflated 57%)\n",
      "  adding: model/fingerprint.pb (stored 0%)\n",
      "  adding: model/saved_model.pb (deflated 85%)\n",
      "  adding: model/keras_metadata.pb (deflated 82%)\n",
      "  adding: model/variables/ (stored 0%)\n",
      "  adding: model/variables/variables.index (deflated 46%)\n",
      "  adding: model/variables/variables.data-00000-of-00001 (deflated 59%)\n"
     ]
    }
   ],
   "source": [
    "!zip -r model.zip model"
   ]
  },
  {
   "cell_type": "code",
   "execution_count": 58,
   "metadata": {
    "id": "K15bKF92PG5e"
   },
   "outputs": [
    {
     "name": "stderr",
     "output_type": "stream",
     "text": [
      "2024-11-24 03:11:45.330620: I tensorflow_decision_forests/tensorflow/ops/inference/kernel.cc:1206] Loading model from path model/assets/ with prefix 4951dd98536d40cf\n",
      "I0000 00:00:1732392705.336236   14078 decision_forest.cc:761] Model loaded with 14 root(s), 2222 node(s), and 9 input feature(s).\n",
      "2024-11-24 03:11:45.336269: I tensorflow_decision_forests/tensorflow/ops/inference/kernel.cc:1035] Use fast generic engine\n",
      "2024-11-24 03:11:45.419516: I tensorflow_decision_forests/tensorflow/ops/inference/kernel.cc:1206] Loading model from path model/assets/ with prefix 4951dd98536d40cf\n",
      "I0000 00:00:1732392705.424634   14078 decision_forest.cc:761] Model loaded with 14 root(s), 2222 node(s), and 9 input feature(s).\n",
      "2024-11-24 03:11:45.424658: I tensorflow_decision_forests/tensorflow/ops/inference/kernel.cc:1035] Use fast generic engine\n",
      "WARNING: All log messages before absl::InitializeLog() is called are written to STDERR\n",
      "W0000 00:00:1732392705.643189   10485 tf_tfl_flatbuffer_helpers.cc:365] Ignored output_format.\n",
      "W0000 00:00:1732392705.643213   10485 tf_tfl_flatbuffer_helpers.cc:368] Ignored drop_control_dependency.\n",
      "2024-11-24 03:11:45.643805: I tensorflow/cc/saved_model/reader.cc:83] Reading SavedModel from: model\n",
      "2024-11-24 03:11:45.644381: I tensorflow/cc/saved_model/reader.cc:52] Reading meta graph with tags { serve }\n",
      "2024-11-24 03:11:45.644396: I tensorflow/cc/saved_model/reader.cc:147] Reading SavedModel debug info (if present) from: model\n",
      "I0000 00:00:1732392705.647190   10485 mlir_graph_optimization_pass.cc:401] MLIR V1 optimization pass is not enabled\n",
      "2024-11-24 03:11:45.647725: I tensorflow/cc/saved_model/loader.cc:236] Restoring SavedModel bundle.\n",
      "2024-11-24 03:11:45.660358: I tensorflow/cc/saved_model/loader.cc:220] Running initialization op on SavedModel bundle at path: model\n",
      "2024-11-24 03:11:45.669917: I tensorflow_decision_forests/tensorflow/ops/inference/kernel.cc:1206] Loading model from path model/assets/ with prefix 4951dd98536d40cf\n",
      "I0000 00:00:1732392705.674993   24613 decision_forest.cc:761] Model loaded with 14 root(s), 2222 node(s), and 9 input feature(s).\n",
      "2024-11-24 03:11:45.675017: I tensorflow_decision_forests/tensorflow/ops/inference/kernel.cc:1035] Use fast generic engine\n",
      "2024-11-24 03:11:45.675231: I tensorflow/cc/saved_model/loader.cc:466] SavedModel load for tags { serve }; Status: success: OK. Took 31431 microseconds.\n",
      "2024-11-24 03:11:45.682958: I tensorflow/compiler/mlir/tensorflow/utils/dump_mlir_util.cc:268] disabling MLIR crash reproducer, set env var `MLIR_CRASH_REPRODUCER_DIRECTORY` to enable.\n",
      "2024-11-24 03:11:45.700737: W tensorflow/compiler/mlir/lite/flatbuffer_export.cc:3814] Graph contains the following resource op(s), that use(s) resource type. Currently, the resource type is not natively supported in TFLite. Please consider not using the resource type if there are issues with either TFLite converter or TFLite runtime:\n",
      "Resource ops: SimpleMLCreateModelResource, SimpleMLInferenceOpWithHandle\n",
      "Details:\n",
      "\ttf.SimpleMLCreateModelResource() -> (tensor<!tf_type.resource>) : {container = \"\", device = \"\", shared_name = \"simple_ml_model_c910aef5-b4db-464a-b340-f6b24defc308\"}\n",
      "\ttf.SimpleMLInferenceOpWithHandle(tensor<?x9xf32>, tensor<0x0xf32>, tensor<0x0xi32>, tensor<0xi32>, tensor<1xi64>, tensor<1xi64>, tensor<!tf_type.resource>) -> (tensor<?x2xf32>, tensor<2x!tf_type.string>) : {dense_output_dim = 2 : i64, device = \"\"}\n",
      "2024-11-24 03:11:45.700771: W tensorflow/compiler/mlir/lite/flatbuffer_export.cc:3836] The following operation(s) need TFLite custom op implementation(s):\n",
      "Custom ops: SimpleMLCreateModelResource, SimpleMLInferenceOpWithHandle\n",
      "Details:\n",
      "\ttf.SimpleMLCreateModelResource() -> (tensor<!tf_type.resource>) : {container = \"\", device = \"\", shared_name = \"simple_ml_model_c910aef5-b4db-464a-b340-f6b24defc308\"}\n",
      "\ttf.SimpleMLInferenceOpWithHandle(tensor<?x9xf32>, tensor<0x0xf32>, tensor<0x0xi32>, tensor<0xi32>, tensor<1xi64>, tensor<1xi64>, tensor<!tf_type.resource>) -> (tensor<?x2xf32>, tensor<2x!tf_type.string>) : {dense_output_dim = 2 : i64, device = \"\"}\n",
      "See instructions: https://www.tensorflow.org/lite/guide/ops_custom\n",
      "2024-11-24 03:11:45.700779: I tensorflow/compiler/mlir/lite/flatbuffer_export.cc:3893] Estimated count of arithmetic ops: 0  ops, equivalently 0  MACs\n"
     ]
    }
   ],
   "source": [
    "# Mengonversi model SavedModel ke TFLite\n",
    "converter = tf.lite.TFLiteConverter.from_saved_model('model')\n",
    "\n",
    "# Tell the converter to use the TensorFlow Decision Forests converter.\n",
    "converter.target_spec.supported_ops = [\n",
    "  tf.lite.OpsSet.TFLITE_BUILTINS, # enable TensorFlow Lite ops.\n",
    "  tf.lite.OpsSet.SELECT_TF_OPS # enable TensorFlow ops.\n",
    "]\n",
    "# Allow custom ops\n",
    "converter.allow_custom_ops = True\n",
    "\n",
    "# Rest of your conversion code\n",
    "tflite_model = converter.convert()\n",
    "\n",
    "# Menyimpan model TFLite ke file\n",
    "with open('model.tflite', 'wb') as f:\n",
    "    f.write(tflite_model)"
   ]
  },
  {
   "cell_type": "code",
   "execution_count": 59,
   "metadata": {
    "id": "JCeteFdPy7g8"
   },
   "outputs": [],
   "source": [
    "#contoh prediksi\n"
   ]
  },
  {
   "cell_type": "code",
   "execution_count": 60,
   "metadata": {
    "colab": {
     "base_uri": "https://localhost:8080/"
    },
    "id": "sJDb7pz8zq61",
    "outputId": "5c8e4711-d2fb-4c61-8a57-3e5f6c253de0"
   },
   "outputs": [
    {
     "name": "stdout",
     "output_type": "stream",
     "text": [
      "1/1 [==============================] - 0s 24ms/step\n",
      "[[0.7590076]]\n",
      "Prediksi Stunting: stunting\n"
     ]
    },
    {
     "name": "stderr",
     "output_type": "stream",
     "text": [
      "/tmp/ipykernel_10485/2925173530.py:49: DeprecationWarning: Conversion of an array with ndim > 0 to a scalar is deprecated, and will error in future. Ensure you extract a single element from your array before performing this operation. (Deprecated NumPy 1.25.)\n",
      "  stunting_prediction = int(prediction[0] > 0.7)  # Jika output lebih dari 0.5, kita kategorikan sebagai tidak stunting (1)\n"
     ]
    }
   ],
   "source": [
    "# nilai minimum dan maksimum dari data training\n",
    "min_age = 0  # nilai min untuk kolom Age\n",
    "max_age = 1  # nilai max untuk kolom Age\n",
    "min_birth_weight = 0  # nilai min untuk kolom Birth_Weight\n",
    "max_birth_weight = 1  # nilai max untuk kolom Birth_Weight\n",
    "min_birth_length = 0  # nilai min untuk kolom Birth_Length\n",
    "max_birth_length = 1  # nilai max untuk kolom Birth_Length\n",
    "min_body_weight = 0  # nilai min untuk kolom Body_Weight\n",
    "max_body_weight = 1  # nilai max untuk kolom Body_Weight\n",
    "min_body_length = 0  # nilai min untuk kolom Body_Length\n",
    "max_body_length = 1  # nilai max untuk kolom Body_Length\n",
    "\n",
    "\n",
    "# Misalnya kita punya data scaler dari proses training, yang bisa berupa nilai min dan max tiap kolom\n",
    "def normalize(value, min_val, max_val):\n",
    "    return (value - min_val) / (max_val - min_val)\n",
    "\n",
    "# Data baru\n",
    "data_baru = {\n",
    "    \"Gender\": 0,  # Male\n",
    "    \"Age\": normalize(12, min_age, max_age),  # Normalisasi dengan nilai age range dari training\n",
    "    \"Birth_Weight\": normalize(2, min_birth_weight, max_birth_weight),\n",
    "    \"Birth_Length\": normalize(30, min_birth_length, max_birth_length),\n",
    "    \"Body_Weight\": normalize(5, min_body_weight, max_body_weight),\n",
    "    \"Body_Length\": normalize(60, min_body_length, max_body_length)\n",
    "}\n",
    "\n",
    "# Menghitung BMI\n",
    "data_baru[\"BMI\"] = data_baru[\"Body_Weight\"] / ((data_baru[\"Body_Length\"]/100) ** 2)\n",
    "\n",
    "# Menghitung Weight_Diff dan Length_Diff\n",
    "data_baru[\"Weight_Diff\"] = data_baru[\"Body_Weight\"] - data_baru[\"Birth_Weight\"]\n",
    "data_baru[\"Length_Diff\"] = data_baru[\"Body_Length\"] - data_baru[\"Birth_Length\"]\n",
    "\n",
    "# Membuat DataFrame\n",
    "df = pd.DataFrame([data_baru])\n",
    "\n",
    "df.head()\n",
    "\n",
    "# Mengonversi DataFrame menjadi tf.data.Dataset\n",
    "dataset = tfdf.keras.pd_dataframe_to_tf_dataset(df, task=tfdf.keras.Task.CLASSIFICATION)\n",
    "\n",
    "# Melakukan prediksi menggunakan model\n",
    "prediction = model.predict(dataset)\n",
    "\n",
    "print(prediction)\n",
    "\n",
    "# Ambil hasil prediksi, misalnya jika lebih dari 0.5 kita kategorikan sebagai tidak stunting (1)\n",
    "stunting_prediction = int(prediction[0] > 0.7)  # Jika output lebih dari 0.5, kita kategorikan sebagai tidak stunting (1)\n",
    "print(\"Prediksi Stunting:\", \"stunting\" if stunting_prediction == 1 else \"tidak stunting\")\n",
    "\n"
   ]
  }
 ],
 "metadata": {
  "colab": {
   "provenance": []
  },
  "kernelspec": {
   "display_name": "Python 3",
   "name": "python3"
  },
  "language_info": {
   "codemirror_mode": {
    "name": "ipython",
    "version": 3
   },
   "file_extension": ".py",
   "mimetype": "text/x-python",
   "name": "python",
   "nbconvert_exporter": "python",
   "pygments_lexer": "ipython3",
   "version": "3.10.12"
  }
 },
 "nbformat": 4,
 "nbformat_minor": 0
}
